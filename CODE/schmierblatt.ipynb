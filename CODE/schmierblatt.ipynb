{
 "cells": [
  {
   "cell_type": "code",
   "execution_count": 1,
   "metadata": {},
   "outputs": [],
   "source": [
    "import numpy as np\n",
    "import pandas as pd\n",
    "import sys,os\n",
    "sys.path.append('../')\n",
    "from utils.misc import *\n",
    "from typing import List, Tuple, Dict, Union, Optional\n",
    "\n",
    "from preprocess import *\n",
    "from utils.dataset import DatasetManager\n",
    "from train import *\n",
    "\n",
    "from pqdm.processes import pqdm\n",
    "from tqdm import tqdm\n",
    "from matplotlib import pyplot as plt\n",
    "\n",
    "from configs.ML_config import cfg\n",
    "from models.Linear import OLS\n",
    "\n",
    "import torch\n",
    "from torchsummary import summary"
   ]
  },
  {
   "cell_type": "code",
   "execution_count": null,
   "metadata": {},
   "outputs": [],
   "source": [
    "mngr = DatasetManager()"
   ]
  }
 ],
 "metadata": {
  "kernelspec": {
   "display_name": "Python 3",
   "language": "python",
   "name": "python3"
  },
  "language_info": {
   "codemirror_mode": {
    "name": "ipython",
    "version": 3
   },
   "file_extension": ".py",
   "mimetype": "text/x-python",
   "name": "python",
   "nbconvert_exporter": "python",
   "pygments_lexer": "ipython3",
   "version": "3.10.10"
  },
  "orig_nbformat": 4,
  "vscode": {
   "interpreter": {
    "hash": "5f20c082c783b22aca15f203fe61a075808f031a7577595d9ee07229454f33de"
   }
  }
 },
 "nbformat": 4,
 "nbformat_minor": 2
}
